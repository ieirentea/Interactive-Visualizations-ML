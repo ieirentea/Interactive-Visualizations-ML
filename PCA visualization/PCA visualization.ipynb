{
 "cells": [
  {
   "cell_type": "markdown",
   "id": "335b3601",
   "metadata": {},
   "source": [
    "# Principal Component Analysis (PCA)\n",
    "This is the link for the survey: https://forms.office.com/e/qPaLAwcPEG\n",
    "\n",
    "#### This activity is intended to help you:\n",
    "- Remember how PCA works\n",
    "- Understand how PCA is applied\n",
    "\n",
    "Principal Component Analysis (PCA) is a linear dimensionality reduction technique. It maps the data onto a linear subspace, such that the variance of the projected data is maximized.\n",
    "This method can be applied when a dataset has a high number of dimensions, since it could reduce the number, while also not losing a significant amount of information. \n",
    "\n",
    "#### The analysis defines a set of principal components in the following way:\n",
    "- The $1^{st}$ component: direction of the greatest variability in the data\n",
    "- The $2^{nd}$ component: perpendicular to the $1^{st}$ one, with greatest variability of what's left\n",
    "- and so on...\n",
    "\n",
    "From the resulted components, the first m components can be chosen to be the new dimensions. In order to do this, the coordinates of every data point are changed to these dimensions.\n",
    "\n",
    "#### The analysis works the following way:\n",
    "\n",
    "So PCA performs the maximization: \n",
    "- $\\max_{||w||^2=1} var(w^Tx)$ where $var(x) = \\frac{1}{N}\\sum_{n=1}^{N}(x_n - \\frac{1}{N}\\sum_{n=1}^{N}x_n)^2$\n",
    "\n",
    "The length of the vector is set to 1 because omitting this constraint would allow us to pick a vector with a very high length to maximize the given equation.\n",
    "\n",
    "So the problem becomes: \n",
    "- $\\max \\frac{1}{n}\\sum_{i=1}^{n}(w^Tx_i)(w^Tx_i) + \\lambda(||w||^2 - 1)$\n",
    "\n",
    "Since for every data point $x_i, w^Tx_i$ is a number, we can transpose the result of this multiplication without affecting the final result.\n",
    "\n",
    "- $\\max \\frac{1}{n}\\sum_{i=1}^{n}(w^Tx_i)(w^Tx_i)^T + \\lambda(w^Tw - 1)$\n",
    "\n",
    "Now, we apply the property of matrix multiplication, namely $(AB)^T = B^TA^T$\n",
    "\n",
    "- $\\max \\frac{1}{n}\\sum_{i=1}^{n}w^Tx_ix_i^Tw + \\lambda(w^Tw - 1)$\n",
    "\n",
    "- $\\max w^T(\\frac{1}{n}\\sum_{i=1}^{n}x_ix_i^T)w + \\lambda w^Tw - \\lambda$\n",
    "where $\\frac{1}{n}\\sum_{i=1}^{n}x_ix_i^T$ = $\\Sigma$, the covariance matrix of the dataset assuming mean zero data\n",
    "\n",
    "- $\\max w^T\\Sigma w + \\lambda w^Tw - \\lambda$ = L\n",
    "\n",
    "Now, to perform the maximization, we will apply the lagrange multipler method which requires $\\frac{\\partial{L}}{\\partial{w}} = 0$.\n",
    "\n",
    "- $2\\Sigma w + 2\\lambda w = 0$\n",
    "- $\\Sigma w$=$-\\lambda w$\n",
    "\n",
    "From the last equation it is clear that w(the new dimension which maximizes the variance of the dataset) is an eigenvector of the covariance matrix, and $\\lambda$ is the eigenvalue. As you remember from Linear Algebra, the eigenvector of a transformation is the vector which after applying the transformation is only being scaled.\n",
    "\n",
    "It is also important to mention that the eigenvalues are proportionate to the variance, namely the eigenvector with the highest eigenvalue retains the highest amount of variance from the initial dataset, and so on. "
   ]
  },
  {
   "cell_type": "markdown",
   "id": "272ac803",
   "metadata": {},
   "source": [
    "---\n",
    "Running the following code will generate a visualization showing a dataset, together with a line.\n",
    "\n",
    "You can interact with the visualization by changing the slope of the line. When you change the line, you will see in the graphs on the right the effect on the reconstruction error and variance associated with each transformation.\n",
    "\n",
    "As you interact with the visualization, can you see any link between the variance and error of the transformed dataset?"
   ]
  },
  {
   "cell_type": "code",
   "execution_count": 1,
   "id": "fd1f9c2c",
   "metadata": {
    "scrolled": false
   },
   "outputs": [
    {
     "data": {
      "application/vnd.jupyter.widget-view+json": {
       "model_id": "77675051c348467eb09505995f2b3999",
       "version_major": 2,
       "version_minor": 0
      },
      "text/plain": [
       "FloatSlider(value=0.5, continuous_update=False, description='Line gradient:', layout=Layout(width='800px'), ma…"
      ]
     },
     "metadata": {},
     "output_type": "display_data"
    },
    {
     "data": {
      "application/vnd.jupyter.widget-view+json": {
       "model_id": "6b84fad7e77c4d539b37640c41b26bcd",
       "version_major": 2,
       "version_minor": 0
      },
      "text/plain": [
       "Output()"
      ]
     },
     "metadata": {},
     "output_type": "display_data"
    }
   ],
   "source": [
    "from PCA_utils import pca_vis1, pca_scaling, pca_cov\n",
    "plot = pca_vis1()\n",
    "plot"
   ]
  },
  {
   "cell_type": "markdown",
   "id": "4ff110d3",
   "metadata": {},
   "source": [
    "---\n",
    "Running the code below will generate a visualizations showing the same dataset as before.\n",
    "\n",
    "You can interact with the visualization by scaling the two variables (x and y). When you scale them, you can observe the effects of the scaling on the generated principal components. \n",
    "\n",
    "In the second graph, you can see the unscaled version. \n",
    "\n",
    "While interacting with the visualization, observe what happens with the principal components as you scale the variables."
   ]
  },
  {
   "cell_type": "code",
   "execution_count": 2,
   "id": "ee7fc13a",
   "metadata": {},
   "outputs": [
    {
     "data": {
      "application/vnd.jupyter.widget-view+json": {
       "model_id": "67489093bc0640cfb13c1e8f89e9a1c4",
       "version_major": 2,
       "version_minor": 0
      },
      "text/plain": [
       "VBox(children=(HBox(children=(FloatSlider(value=1.0, continuous_update=False, description='Scale y with:', lay…"
      ]
     },
     "metadata": {},
     "output_type": "display_data"
    },
    {
     "data": {
      "text/plain": [
       "None"
      ]
     },
     "metadata": {},
     "output_type": "display_data"
    },
    {
     "data": {
      "image/png": "[encoded data removed]",
      "text/plain": [
       "<Figure size 432x288 with 1 Axes>"
      ]
     },
     "metadata": {
      "needs_background": "light"
     },
     "output_type": "display_data"
    }
   ],
   "source": [
    "plot = pca_scaling()\n",
    "plot"
   ]
  },
  {
   "cell_type": "markdown",
   "id": "4789d656",
   "metadata": {},
   "source": [
    "---\n",
    "Running the code below will generate a graph with the same dataset used in the previous 2 visualizations.\n",
    "\n",
    "By changing the value showed in the slider, you set the amount of times the initial dataset is transformed by the covariance matrix(e.g. if you set to value 2, it is multiplied 2 times). Think about what changes you observe in the data. Does it resemble anything familiar?"
   ]
  },
  {
   "cell_type": "code",
   "execution_count": 3,
   "id": "f557386a",
   "metadata": {},
   "outputs": [
    {
     "data": {
      "application/vnd.jupyter.widget-view+json": {
       "model_id": "c0c73bab0b664fd0871890234181b772",
       "version_major": 2,
       "version_minor": 0
      },
      "text/plain": [
       "IntSlider(value=0, continuous_update=False, description='Displayed transformations:', layout=Layout(width='600…"
      ]
     },
     "metadata": {},
     "output_type": "display_data"
    },
    {
     "data": {
      "application/vnd.jupyter.widget-view+json": {
       "model_id": "76aec120d8a44873af84b7cfba78d91f",
       "version_major": 2,
       "version_minor": 0
      },
      "text/plain": [
       "Output()"
      ]
     },
     "metadata": {},
     "output_type": "display_data"
    }
   ],
   "source": [
    "plot = pca_cov()\n",
    "plot"
   ]
  },
  {
   "cell_type": "markdown",
   "id": "7c1d10cc",
   "metadata": {},
   "source": [
    "---\n",
    "This is the end of the instructional materials for the PCA part.\n",
    "\n",
    "To summarise, PCA is a method of dimensionality reduction, frequently used in Machine Learning. This method generates principal components(eigenvectors of the covariance matrix) which can be used to project the original data on a lower dimensional space.\n",
    "\n",
    "You can now take a last look at the detailed description from the beginning and at the visualizations, before returing to the survey."
   ]
  }
 ],
 "metadata": {
  "kernelspec": {
   "display_name": "Python 3 (ipykernel)",
   "language": "python",
   "name": "python3"
  },
  "language_info": {
   "codemirror_mode": {
    "name": "ipython",
    "version": 3
   },
   "file_extension": ".py",
   "mimetype": "text/x-python",
   "name": "python",
   "nbconvert_exporter": "python",
   "pygments_lexer": "ipython3",
   "version": "3.9.7"
  }
 },
 "nbformat": 4,
 "nbformat_minor": 5
}
