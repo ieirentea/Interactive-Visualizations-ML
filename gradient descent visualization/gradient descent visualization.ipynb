{
 "cells": [
  {
   "cell_type": "markdown",
   "id": "078cc4ab",
   "metadata": {},
   "source": [
    "# Gradient Descent\n",
    "This is the link for the survey: https://forms.office.com/e/qPaLAwcPEG\n",
    "\n",
    "This activity is intended to help you:\n",
    "- Remember how gradient descent works\n",
    "- Understand how gradient descent is applied\n",
    "- Apply gradient descent\n",
    "\n",
    "Gradient descent is a searching algorithm, which, in the context of machine learning, can be used to search for the parameter value linked to the minimum cost. This algorithm is ideal when the function shape or optimum is unknown.\n",
    "\n",
    "The gradient descent algorithm, as its name suggests, relies on the gradient of a given function. Namely, it updates a certain variable with the gradient of a loss function in the given point multiplied by the chosen learning rate. \n",
    "\n",
    "The algorithm's steps are the following:\n",
    "1. Pick a random starting point $w_0$\n",
    "2. Updates the variable according to the following update rule:\n",
    "    $w_j^{t+1} = w_j^t-\\alpha\\frac{\\partial J(w,w_0)}{\\partial w_j}\\Bigr|_{w, w_0 = w^t, w_0^t}$\n",
    "    where $\\alpha$ = learning rate, $w_j^t$ = j-th parameter's value at step t\n",
    "    \n",
    "Let's pick the cost function to be the mean squared error:\n",
    "    $J(w, w_0) = \\frac{1}{N}\\sum_{i=1}^{N}(x_i^Tw + w_0 - y_i)^2$\n",
    "    \n",
    "Then the gradient is the following:\n",
    "    $\\frac{\\partial J(w, w_0)}{\\partial w_j} = \\frac{1}{N}\\sum_{i=1}^{N}2(x_i^Tw + w_0 - y_i)x_i^{(j)}$\n"
   ]
  },
  {
   "cell_type": "markdown",
   "id": "6f13a77c",
   "metadata": {},
   "source": [
    "---\n",
    "Running the following code will generate a visualization showing the gradient descent algorithm for functions with one variable. \n",
    "\n",
    "You can interact with the visualization by changing the loss function, starting value for x, learning rate, and amount of computed iterations of the algorithm. \n",
    "\n",
    "You can also choose to see the visual interpretation of the gradient used for the last update of the algorithm. \n",
    "\n",
    "Also, above the graph you can see the mathematical calculation used for the last update.\n",
    "\n",
    "Note: for the custom function start with a value around 0(+-0.2) to observe the correct behavior."
   ]
  },
  {
   "cell_type": "code",
   "execution_count": 2,
   "id": "4880005b",
   "metadata": {},
   "outputs": [
    {
     "data": {
      "application/vnd.jupyter.widget-view+json": {
       "model_id": "7cc9e1b5dd224e55afdad96c31af46fb",
       "version_major": 2,
       "version_minor": 0
      },
      "text/plain": [
       "VBox(children=(FloatSlider(value=2.0, continuous_update=False, description='Starting Value:', layout=Layout(wi…"
      ]
     },
     "metadata": {},
     "output_type": "display_data"
    },
    {
     "data": {
      "application/vnd.jupyter.widget-view+json": {
       "model_id": "3856185028a84dc99f88c294efd35077",
       "version_major": 2,
       "version_minor": 0
      },
      "text/plain": [
       "Output()"
      ]
     },
     "metadata": {},
     "output_type": "display_data"
    },
    {
     "data": {
      "image/png": "[encoded data removed]",
      "text/plain": [
       "<Figure size 432x288 with 1 Axes>"
      ]
     },
     "metadata": {
      "needs_background": "light"
     },
     "output_type": "display_data"
    }
   ],
   "source": [
    "from GD_utils import GD_2D, GD_3D, GD_manual\n",
    "plot = GD_2D()\n",
    "plot"
   ]
  },
  {
   "cell_type": "markdown",
   "id": "7412dd1f",
   "metadata": {},
   "source": [
    "---\n",
    "Similar to the previous step, you should run the following code to generate a visualization for gradient descent for a function with six variables.\n",
    "\n",
    "The first graph shows the dataset used for the algorithm.\n",
    "\n",
    "The second graph shows the evolution of the mean squared error.\n",
    "\n",
    "Your task is to manipulate the value of each variable based on the gradient shown on its right. You don't need to perfectly match the data points, but try to make the line as close as you can while observing the evolution of the gradients and of the mean squared error.\n",
    "\n",
    "During your interaction, think about how the gradient descent algorithm would work in this context and try to imitate the process."
   ]
  },
  {
   "cell_type": "code",
   "execution_count": 3,
   "id": "9b9690e4",
   "metadata": {},
   "outputs": [
    {
     "data": {
      "application/vnd.jupyter.widget-view+json": {
       "model_id": "f2c043e7a7df4df9855b8c5b4bc3a1ac",
       "version_major": 2,
       "version_minor": 0
      },
      "text/plain": [
       "VBox(children=(HBox(children=(FloatSlider(value=0.0, continuous_update=False, max=10.0, min=-10.0), Label(valu…"
      ]
     },
     "metadata": {},
     "output_type": "display_data"
    },
    {
     "data": {
      "application/vnd.jupyter.widget-view+json": {
       "model_id": "d6a3be918096433ba915d05a96663a97",
       "version_major": 2,
       "version_minor": 0
      },
      "text/plain": [
       "Output()"
      ]
     },
     "metadata": {},
     "output_type": "display_data"
    }
   ],
   "source": [
    "plot = GD_manual()\n",
    "plot"
   ]
  },
  {
   "cell_type": "markdown",
   "id": "f889237e",
   "metadata": {},
   "source": [
    "---\n",
    "Similar to the previous step, you should run the following code to generate a visualization for gradient descent for a function with two variables(a and b).\n",
    "\n",
    "The first graph shows the dataset used for the algorithm. The optimization problem tries to fit a line with the function $a*x+b$.\n",
    "\n",
    "The second graph shows the values of the loss function depending on the values of a and b.\n",
    "\n",
    "The third graph shows the evolution of the mean squared error over the computed epochs.\n",
    "\n",
    "You can interact with the visualization by changing the starting values of a and b, learning rate and number of epochs computed."
   ]
  },
  {
   "cell_type": "code",
   "execution_count": 4,
   "id": "55bb2eb8",
   "metadata": {},
   "outputs": [
    {
     "data": {
      "application/vnd.jupyter.widget-view+json": {
       "model_id": "a4dbd3d4e2fb4bd0859980ef5cb3f22b",
       "version_major": 2,
       "version_minor": 0
      },
      "text/plain": [
       "VBox(children=(HBox(children=(FloatSlider(value=-10.0, continuous_update=False, description='Starting value a'…"
      ]
     },
     "metadata": {},
     "output_type": "display_data"
    },
    {
     "data": {
      "application/vnd.jupyter.widget-view+json": {
       "model_id": "6a67872f94664af0ad65cefe2787d719",
       "version_major": 2,
       "version_minor": 0
      },
      "text/plain": [
       "Output()"
      ]
     },
     "metadata": {},
     "output_type": "display_data"
    }
   ],
   "source": [
    "plot = GD_3D()\n",
    "plot"
   ]
  },
  {
   "cell_type": "markdown",
   "id": "8446430e",
   "metadata": {},
   "source": [
    "---\n",
    "This is the end of the instructional materials for the gradient descent part.\n",
    "\n",
    "To summarise, gradient descent is an algorithm that aims to find the minimum of a loss function using the gradient of the function. The algorithm constantly performs updates, until it find the minimum of the function.\n",
    "\n",
    "You can now take a last look at the detailed description from the beginning and at the visualizations, before returing to the survey."
   ]
  }
 ],
 "metadata": {
  "kernelspec": {
   "display_name": "Python 3 (ipykernel)",
   "language": "python",
   "name": "python3"
  },
  "language_info": {
   "codemirror_mode": {
    "name": "ipython",
    "version": 3
   },
   "file_extension": ".py",
   "mimetype": "text/x-python",
   "name": "python",
   "nbconvert_exporter": "python",
   "pygments_lexer": "ipython3",
   "version": "3.9.7"
  }
 },
 "nbformat": 4,
 "nbformat_minor": 5
}
